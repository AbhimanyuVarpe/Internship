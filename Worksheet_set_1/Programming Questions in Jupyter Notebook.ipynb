{
 "cells": [
  {
   "cell_type": "markdown",
   "metadata": {},
   "source": [
    "# WORKSHEET_1"
   ]
  },
  {
   "cell_type": "markdown",
   "metadata": {},
   "source": [
    "## PYTHON – WORKSHEET 1"
   ]
  },
  {
   "cell_type": "markdown",
   "metadata": {},
   "source": [
    "### Q11 to Q15 are programming questions. Answer them in Jupyter Notebook."
   ]
  },
  {
   "cell_type": "markdown",
   "metadata": {},
   "source": [
    "#### Q11. Write a python program to find the factorial of a number."
   ]
  },
  {
   "cell_type": "code",
   "execution_count": 2,
   "metadata": {},
   "outputs": [
    {
     "name": "stdout",
     "output_type": "stream",
     "text": [
      "Enter the number to find the factorial:12\n",
      "The factorial of 12 is: 479001600\n"
     ]
    }
   ],
   "source": [
    "# python program to find the factorial of a number.\n",
    "\n",
    "# Taking the input from User\n",
    "n = int(input (\"Enter the number to find the factorial:\"))\n",
    "fact = 1\n",
    "\n",
    "#factorial doesn't defined for negative numbers.\n",
    "if n < 0:\n",
    "    print (\"Please enter valid number.\")\n",
    "    \n",
    "elif n == 0:\n",
    "    print (\"The factorial of 0 is: 1\")\n",
    "    \n",
    "else:\n",
    "    for i in range (1, n+1):\n",
    "        fact = fact * i\n",
    "    print(f\"\"\"The factorial of {n} is: {fact}\"\"\")"
   ]
  },
  {
   "cell_type": "markdown",
   "metadata": {},
   "source": [
    "#### Q12. Write a python program to find whether a number is prime or composite."
   ]
  },
  {
   "cell_type": "code",
   "execution_count": 3,
   "metadata": {},
   "outputs": [
    {
     "name": "stdout",
     "output_type": "stream",
     "text": [
      "Enter The Number12\n",
      "12 is not a Prime Number\n"
     ]
    }
   ],
   "source": [
    "# Check whether the entered number is a prime number or composite.\n",
    "\n",
    "# Taking the input from User \n",
    "number = int(input(\"Enter The Number\"))\n",
    "\n",
    "if number > 1:\n",
    "    for i in range(2,int(number/2)+1):\n",
    "        if (number % i == 0):\n",
    "            print(number, \"is not a Prime Number\")\n",
    "            break\n",
    "    else:\n",
    "        print(number,\"is a Prime number\")\n",
    "        \n",
    "# If the number is less than 1 it can't be Prime   \n",
    "else:\n",
    "    print(number,\"is not a Prime number\")\n",
    "    "
   ]
  },
  {
   "cell_type": "code",
   "execution_count": 4,
   "metadata": {},
   "outputs": [
    {
     "name": "stdout",
     "output_type": "stream",
     "text": [
      "enter the number upto which you want to find out prime numbers: 12\n",
      "list of the prime numbers upto 12: [2, 3, 5, 7, 11]\n",
      "12 is not a prime number\n"
     ]
    }
   ],
   "source": [
    "# Taking the input from User \n",
    "N = int(input('enter the number upto which you want to find out prime numbers: '))\n",
    "\n",
    "prime_numbers = [x for x in range(2, N) if all(x % y != 0 for y in range(2, x))]\n",
    "\n",
    "# Prime numbers between 2 to N th number.\n",
    "print(f\"\"\"list of the prime numbers upto {N}: {prime_numbers}\"\"\")\n",
    "\n",
    "if N in prime_numbers:\n",
    "    print(f\"\"\"{N} is prime number\"\"\")\n",
    "else:\n",
    "    print(f\"\"\"{N} is not a prime number\"\"\")\n"
   ]
  },
  {
   "cell_type": "markdown",
   "metadata": {},
   "source": [
    "#### Q13. Write a python program to check whether a given string is palindrome or not."
   ]
  },
  {
   "cell_type": "code",
   "execution_count": 5,
   "metadata": {},
   "outputs": [
    {
     "name": "stdout",
     "output_type": "stream",
     "text": [
      "Enter a word: wow\n",
      "'wow' is palindrom word.\n"
     ]
    }
   ],
   "source": [
    "# palindrom is a word, phrase, or sequence that reads the same backwards as forwards, e.g. madam.\n",
    "\n",
    "# Taking the input from User\n",
    "word = input(\"Enter a word: \")\n",
    "\n",
    "if word == word[::-1]:\n",
    "    print (f\"\"\"'{word}' is palindrom word.\"\"\")\n",
    "else:\n",
    "    print(f\"\"\"'{word}' is not palindrom word.\"\"\")"
   ]
  },
  {
   "cell_type": "markdown",
   "metadata": {},
   "source": [
    "#### Q14. Write a Python program to get the third side of right-angled triangle from two given sides."
   ]
  },
  {
   "cell_type": "markdown",
   "metadata": {},
   "source": [
    "Pythagoras theorem states that, \"In a right-angled triangle, the square of the hypotenuse side is equal to the sum of squares of the other two sides\"."
   ]
  },
  {
   "cell_type": "code",
   "execution_count": 6,
   "metadata": {},
   "outputs": [
    {
     "name": "stdout",
     "output_type": "stream",
     "text": [
      "if you want to find out the value of third side of right-angle triangle enter that as 0(zero)\n",
      "Base: 3\n",
      "Hight: 4\n",
      "Hypotenous: 0\n",
      "Hypotenuse = 5.0\n"
     ]
    }
   ],
   "source": [
    "# if you want to find out the value of third side of right-angle triangle enter that as 0(zero)\n",
    "print(\"if you want to find out the value of third side of right-angle triangle enter that as 0(zero)\")\n",
    "\n",
    "# Taking the input from User\n",
    "base = int(input(\"Base: \"))\n",
    "hight = int(input(\"Hight: \"))\n",
    "hypotenuse = int(input(\"Hypotenous: \"))\n",
    "\n",
    "def pythagoras(base,hight,hypotenuse):\n",
    "    \n",
    "        if base == 0:\n",
    "            return (\"base = \" + str(((hypotenuse**2) - (hight**2))**0.5))\n",
    "        \n",
    "        elif hight == 0:\n",
    "            return (\"hight = \" + str(((hypotenuse**2) - (base**2))**0.5))\n",
    "        \n",
    "        elif hypotenuse == 0: \n",
    "            return (\"Hypotenuse = \" + str(((base**2) + (hight**2))**0.5))\n",
    "        \n",
    "        else:\n",
    "            return \"You already know the answer!\"\n",
    "        \n",
    "print(pythagoras(base,hight,hypotenuse))"
   ]
  },
  {
   "cell_type": "markdown",
   "metadata": {},
   "source": [
    "#### Q15. Write a python program to print the frequency of each of the characters present in a given string."
   ]
  },
  {
   "cell_type": "code",
   "execution_count": 1,
   "metadata": {},
   "outputs": [
    {
     "name": "stdout",
     "output_type": "stream",
     "text": [
      "enter string to find out the freq of all char.:asdcvbnjuytfdx\n",
      "frequency of each of the characters:\n",
      "{'a': 1, 's': 1, 'd': 2, 'c': 1, 'v': 1, 'b': 1, 'n': 1, 'j': 1, 'u': 1, 'y': 1, 't': 1, 'f': 1, 'x': 1}\n"
     ]
    }
   ],
   "source": [
    "# Taking the input from User\n",
    "input_string = input(\"enter string to find out the freq of all char.:\")\n",
    "freq_set = {}\n",
    "\n",
    "for i in input_string :\n",
    "    if i in freq_set:\n",
    "        freq_set[i] +=1\n",
    "    else:\n",
    "        freq_set[i] = 1\n",
    "        \n",
    "print(f\"\"\"frequency of each of the characters:\n",
    "{freq_set}\"\"\")"
   ]
  },
  {
   "cell_type": "code",
   "execution_count": null,
   "metadata": {},
   "outputs": [],
   "source": []
  }
 ],
 "metadata": {
  "kernelspec": {
   "display_name": "Python 3",
   "language": "python",
   "name": "python3"
  },
  "language_info": {
   "codemirror_mode": {
    "name": "ipython",
    "version": 3
   },
   "file_extension": ".py",
   "mimetype": "text/x-python",
   "name": "python",
   "nbconvert_exporter": "python",
   "pygments_lexer": "ipython3",
   "version": "3.8.5"
  }
 },
 "nbformat": 4,
 "nbformat_minor": 4
}
